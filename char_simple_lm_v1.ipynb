{
 "cells": [
  {
   "cell_type": "markdown",
   "metadata": {},
   "source": [
    "### Simple language model to process user events"
   ]
  },
  {
   "cell_type": "code",
   "execution_count": 5,
   "metadata": {},
   "outputs": [
    {
     "name": "stdout",
     "output_type": "stream",
     "text": [
      "TensorFlow version: 1.7.0\n",
      "Eager execution: True\n"
     ]
    }
   ],
   "source": [
    "import os\n",
    "import matplotlib.pyplot as plt\n",
    "import numpy as np\n",
    "\n",
    "import tensorflow as tf\n",
    "import tensorflow.contrib.eager as tfe\n",
    "\n",
    "tf.enable_eager_execution()\n",
    "\n",
    "print(\"TensorFlow version: {}\".format(tf.VERSION))\n",
    "print(\"Eager execution: {}\".format(tf.executing_eagerly()))\n",
    "\n",
    "data_dir = 'data/char_feats/U1480/'\n"
   ]
  },
  {
   "cell_type": "code",
   "execution_count": 33,
   "metadata": {},
   "outputs": [],
   "source": [
    "# transform character-based input into equivalent numerical versions\n",
    "def encode_data(text, num_chars, max_length):\n",
    "    # create empty vessels for one-hot encoded input\n",
    "    X = np.zeros((len(text), max_length, num_chars), dtype=np.float32)\n",
    "    y = np.zeros((len(text), max_length, num_chars), dtype=np.float32)\n",
    "    \n",
    "    # loop over inputs and tranform and store in X\n",
    "    for i, sentence in enumerate(text):\n",
    "        sentence = '\\t' + sentence + '\\n'\n",
    "        for j, c in enumerate(sentence):\n",
    "            X[i, j, ord(c)] = 1\n",
    "            if j > 0:\n",
    "                # target_data will be ahead by one timestep\n",
    "                # and will not include the start character.\n",
    "                y[i, j - 1, ord(c)] = 1.\n",
    "\n",
    "    return X, y"
   ]
  },
  {
   "cell_type": "code",
   "execution_count": 81,
   "metadata": {},
   "outputs": [],
   "source": [
    "def process_file(fname):\n",
    "    \"\"\"\n",
    "        process file by extracting sentences data and encode them producing \n",
    "        a set of input and target data for processing by the model\n",
    "        'fname' contains coma separated fields where the last one is the \n",
    "        sentence to be processes\n",
    "    \"\"\"\n",
    "    data = open(fname).read()\n",
    "    max_len = 120 # length of sentence\n",
    "\n",
    "    text = []\n",
    "    red_events = []\n",
    "    with open(dataset_fname, 'r') as infile:\n",
    "        for line in infile.readlines():\n",
    "            line = line.strip().split(',')\n",
    "            text.append(line[-1])\n",
    "            if int(line[2]) == 1:\n",
    "                red_events.append(line)\n",
    "\n",
    "    print(text[0], 'len:', len(text[0]), len(text))\n",
    "\n",
    "    input_data, target_data = encode_data(text, 128, max_len)\n",
    "    \n",
    "    return input_data, target_data, red_events\n",
    "    "
   ]
  },
  {
   "cell_type": "code",
   "execution_count": 74,
   "metadata": {},
   "outputs": [
    {
     "name": "stdout",
     "output_type": "stream",
     "text": [
      "(629, 120, 128)\n",
      "(629, 120, 128)\n"
     ]
    }
   ],
   "source": [
    "dataset_fname = data_dir+'0.txt'\n",
    "\n",
    "input_data, target_data = process_file(dataset_fname)\n",
    "\n",
    "\n",
    "print(input_data.shape)\n",
    "print(target_data.shape)"
   ]
  },
  {
   "cell_type": "markdown",
   "metadata": {},
   "source": [
    "### Create a model using Keras\n",
    "\n",
    "The TensorFlow [tf.keras](https://www.tensorflow.org/api_docs/python/tf/keras) API is the preferred way to create models and layers. This makes it easy to build models and experiment while Keras handles the complexity of connecting everything together. See the [Keras documentation](https://keras.io/) for details.\n",
    "\n",
    "The [tf.keras.Sequential](https://www.tensorflow.org/api_docs/python/tf/keras/Sequential) model is a linear stack of layers. Its constructor takes a list of layer instances, in this case, one [LSTM](https://www.tensorflow.org/api_docs/python/tf/keras/layers/LSTM) and one [Dense](https://www.tensorflow.org/api_docs/python/tf/keras/layers/Dense) layers with 'num_chars' nodes each. The first layer's `input_shape` parameter corresponds to the amount of features from the dataset, and is required."
   ]
  },
  {
   "cell_type": "code",
   "execution_count": 64,
   "metadata": {},
   "outputs": [],
   "source": [
    "num_chars = 128 # our vocabulary, i.e. unique characters in text. We'll just use the first 128 (half ASCII)\n",
    "\n",
    "def getModel():\n",
    "    model = tf.keras.Sequential([\n",
    "        tf.keras.layers.LSTM(num_chars, input_shape=(None, num_chars), return_sequences=True),  # input shape required\n",
    "        tf.keras.layers.Dense(num_chars, activation=\"softmax\"),\n",
    "    ])\n",
    "    return model"
   ]
  },
  {
   "cell_type": "markdown",
   "metadata": {},
   "source": [
    "### Train the model\n",
    "\n",
    "#### Define the loss and gradient function\n",
    "\n",
    "Both training and evaluation stages need to calculate the model's *[loss](https://developers.google.com/machine-learning/crash-course/glossary#loss)*. This measures how off a model's predictions are from the desired output. We want to minimize, or optimize, this value.\n",
    "\n",
    "Our model will calculate its loss using the [tf.keras.losses.categorical_crossentropy](https://www.tensorflow.org/api_docs/python/tf/keras/losses/categorical_crossentropy) function which takes the model's prediction and the desired output. The returned loss value is progressively larger as the prediction gets worse.\n",
    "\n",
    "The `grad` function uses the `loss` function and the [tfe.GradientTape](https://www.tensorflow.org/api_docs/python/tf/contrib/eager/GradientTape) to record operations that compute the *[gradients](https://developers.google.com/machine-learning/crash-course/glossary#gradient)* used to optimize our model."
   ]
  },
  {
   "cell_type": "code",
   "execution_count": 68,
   "metadata": {},
   "outputs": [],
   "source": [
    "def loss(model, x, y):\n",
    "    y_ = model(x)\n",
    "    return tf.keras.losses.categorical_crossentropy(y, y_)\n",
    "\n",
    "def grad(model, inputs, targets):\n",
    "    with tfe.GradientTape() as tape:\n",
    "        loss_value = loss(model, inputs, targets)\n",
    "    return tape.gradient(loss_value, model.variables)"
   ]
  },
  {
   "cell_type": "markdown",
   "metadata": {},
   "source": [
    "#### Define the optimizer\n",
    "TensorFlow has many [optimization algorithms](https://www.tensorflow.org/api_guides/python/train) available for training. This model uses the [tf.train.GradientDescentOptimizer](https://www.tensorflow.org/api_docs/python/tf/train/GradientDescentOptimizer) that implements the *[stochastic gradient descent](https://developers.google.com/machine-learning/crash-course/glossary#gradient_descent)* (SGD) algorithm. The `learning_rate` sets the step size to take for each iteration down the hill. "
   ]
  },
  {
   "cell_type": "code",
   "execution_count": 69,
   "metadata": {},
   "outputs": [],
   "source": [
    "# optimizer = tf.train.GradientDescentOptimizer(learning_rate=0.001)\n",
    "optimizer = tf.train.RMSPropOptimizer(learning_rate=0.001, epsilon=1e-08)"
   ]
  },
  {
   "cell_type": "markdown",
   "metadata": {},
   "source": [
    "#### Training the model"
   ]
  },
  {
   "cell_type": "code",
   "execution_count": 70,
   "metadata": {},
   "outputs": [
    {
     "name": "stdout",
     "output_type": "stream",
     "text": [
      "<BatchDataset shapes: ((?, 120, 128), (?, 120, 128)), types: (tf.float32, tf.float32)>\n",
      "Epoch 000: Loss: 2.196, Accuracy: 0.000% - in: 16.901 sec.\n",
      "Epoch 001: Loss: 1.760, Accuracy: 0.000% - in: 16.693 sec.\n",
      "Epoch 002: Loss: 1.659, Accuracy: 0.000% - in: 16.726 sec.\n",
      "Epoch 003: Loss: 1.615, Accuracy: 0.000% - in: 16.633 sec.\n",
      "Epoch 004: Loss: 1.561, Accuracy: 0.000% - in: 16.699 sec.\n",
      "Epoch 005: Loss: 1.540, Accuracy: 0.000% - in: 17.152 sec.\n",
      "Epoch 006: Loss: 1.478, Accuracy: 0.000% - in: 17.593 sec.\n",
      "Epoch 007: Loss: 1.440, Accuracy: 0.000% - in: 17.039 sec.\n",
      "Epoch 008: Loss: 1.470, Accuracy: 0.000% - in: 16.734 sec.\n",
      "Epoch 009: Loss: 1.392, Accuracy: 0.000% - in: 16.680 sec.\n"
     ]
    }
   ],
   "source": [
    "import time\n",
    "\n",
    "num_epochs = 10\n",
    "batch_size = 100\n",
    "\n",
    "# keep results for plotting\n",
    "train_loss_results = []\n",
    "train_accuracy_results = []\n",
    "\n",
    "training_dataset = tf.data.Dataset.from_tensor_slices((input_data, target_data))\n",
    "training_dataset = training_dataset.batch(batch_size)\n",
    "print(training_dataset)\n",
    "\n",
    "model = getModel()\n",
    "\n",
    "for epoch in range(num_epochs):\n",
    "    epoch_loss_avg = tfe.metrics.Mean()\n",
    "    epoch_accuracy = tfe.metrics.Accuracy()\n",
    "    \n",
    "    startTime = time.time()\n",
    "    # training using batches of 'batch_size'\n",
    "    for X, y in tfe.Iterator(training_dataset):\n",
    "        grads = grad(model, X, y)\n",
    "        optimizer.apply_gradients(zip(grads, model.variables), \n",
    "                                 global_step=tf.train.get_or_create_global_step())\n",
    "        epoch_loss_avg(loss(model, X, y)) # batch loss\n",
    "        epoch_accuracy(model(X), y)\n",
    "        \n",
    "    train_loss_results.append(epoch_loss_avg.result())\n",
    "    train_accuracy_results.append(epoch_accuracy.result())\n",
    "    \n",
    "    if epoch % 1 == 0:\n",
    "        print(\"Epoch {:03d}: Loss: {:.3f}, Accuracy: {:.3%} - in: {:.3f} sec.\".format(epoch, \n",
    "                                                                    epoch_loss_avg.result(), \n",
    "                                                                    epoch_accuracy.result(),\n",
    "                                                                    (time.time()-startTime)))        \n"
   ]
  },
  {
   "cell_type": "code",
   "execution_count": 71,
   "metadata": {},
   "outputs": [
    {
     "data": {
      "image/png": "[encoded data removed]",
      "text/plain": [
       "<matplotlib.figure.Figure at 0x12cc92470>"
      ]
     },
     "metadata": {},
     "output_type": "display_data"
    }
   ],
   "source": [
    "fig, axes = plt.subplots(2, sharex=True, figsize=(12, 8))\n",
    "fig.suptitle('Training Metrics')\n",
    "\n",
    "axes[0].set_ylabel(\"Loss\", fontsize=14)\n",
    "axes[0].plot(train_loss_results)\n",
    "\n",
    "# axes[1].set_ylabel(\"Accuracy\", fontsize=14)\n",
    "# axes[1].set_xlabel(\"Epoch\", fontsize=14)\n",
    "# axes[1].plot(train_accuracy_results)\n",
    "\n",
    "plt.show()"
   ]
  },
  {
   "cell_type": "markdown",
   "metadata": {},
   "source": [
    "#### Save model to a file"
   ]
  },
  {
   "cell_type": "code",
   "execution_count": 75,
   "metadata": {},
   "outputs": [],
   "source": [
    "model_filepath = 'models/model_lm_v1.hdfs'\n",
    "\n",
    "tf.keras.models.save_model(\n",
    "    model,\n",
    "    model_filepath,\n",
    "    overwrite=True,\n",
    "    include_optimizer=True\n",
    ")"
   ]
  },
  {
   "cell_type": "code",
   "execution_count": 90,
   "metadata": {},
   "outputs": [
    {
     "name": "stdout",
     "output_type": "stream",
     "text": [
      "U1480@DOM1|U1480@DOM1|C12512|C2310|?|?|AuthMap|Success len: 54 808\n",
      "(808, 120, 128)\n",
      "(808, 120, 128)\n",
      "2\n"
     ]
    }
   ],
   "source": [
    "dataset_fname = data_dir+'12.txt'\n",
    "\n",
    "input_data, target_data, red_events = process_file(dataset_fname)\n",
    "\n",
    "print(input_data.shape)\n",
    "print(target_data.shape)\n",
    "print(len(red_events))"
   ]
  },
  {
   "cell_type": "code",
   "execution_count": 93,
   "metadata": {},
   "outputs": [],
   "source": [
    "_dataset = tf.data.Dataset.from_tensor_slices((input_data, target_data))\n",
    "_dataset = training_dataset.batch(batch_size)\n",
    "\n",
    "# training using batches of 'batch_size'\n",
    "for X, y in tfe.Iterator(training_dataset):\n",
    "    line_losses = tf.reduce_mean(loss(model, X, y), axis=1)\n",
    "    break\n",
    "\n",
    "avgloss = tf.reduce_mean(line_losses)  # scalar\n",
    "\n"
   ]
  },
  {
   "cell_type": "code",
   "execution_count": 95,
   "metadata": {},
   "outputs": [
    {
     "name": "stdout",
     "output_type": "stream",
     "text": [
      "tf.Tensor(\n",
      "[ 0.05981135  0.0225805  -0.12406158 -0.144153   -0.14090693 -0.14090693\n",
      " -0.1553986   0.24486184 -0.18014288 -0.17335153  0.22779965 -0.19027913\n",
      "  0.21200383 -0.18041813  0.22123873 -0.18701124  0.21518683  0.01052046\n",
      "  0.00100446  0.02025092 -0.14090693 -0.13864899 -0.12406158 -0.18014288\n",
      "  0.05955553  0.22123873  0.02025092  0.2274909   0.12310028 -0.14090693\n",
      "  0.1807859   0.21518683  0.01052046  0.24486184 -0.1553986  -0.19026577\n",
      "  0.21177852 -0.18041813  0.00746942  0.02025092  0.03699899  0.22779965\n",
      "  0.24486184  0.171368    0.0644908   0.24656284  0.22123873  0.21200383\n",
      "  0.02025092 -0.12406158 -0.144153   -0.14090693 -0.14090693 -0.1553986\n",
      " -0.18014288 -0.17335153 -0.19027913 -0.18041813  0.22123873 -0.18701124\n",
      "  0.00100446  0.02025092 -0.13864899 -0.12406158 -0.14090693 -0.18014288\n",
      " -0.14090693 -0.1553986  -0.19026577  0.21177852 -0.18041813  0.00746942\n",
      "  0.06493533  0.02025092  0.05955553  0.07732272  0.00100446  0.07732272\n",
      "  0.00100446  0.25939023 -0.18041813 -0.17663193  0.08220243  0.25939023\n",
      "  0.08220243  0.25939023  0.08220243  0.25939023  0.08220243  0.25939023\n",
      " -0.18041813 -0.17663193  0.08220243  0.08220243  0.171368    0.0644908\n",
      " -0.14090693 -0.14090693 -0.14090693 -0.14090693], shape=(100,), dtype=float32)\n",
      "tf.Tensor(1.3297844, shape=(), dtype=float32)\n"
     ]
    }
   ],
   "source": [
    "print(line_losses - avgloss)\n",
    "print(avgloss)"
   ]
  },
  {
   "cell_type": "code",
   "execution_count": null,
   "metadata": {},
   "outputs": [],
   "source": []
  }
 ],
 "metadata": {
  "kernelspec": {
   "display_name": "Python 3",
   "language": "python",
   "name": "python3"
  },
  "language_info": {
   "codemirror_mode": {
    "name": "ipython",
    "version": 3
   },
   "file_extension": ".py",
   "mimetype": "text/x-python",
   "name": "python",
   "nbconvert_exporter": "python",
   "pygments_lexer": "ipython3",
   "version": "3.6.0"
  }
 },
 "nbformat": 4,
 "nbformat_minor": 2
}
