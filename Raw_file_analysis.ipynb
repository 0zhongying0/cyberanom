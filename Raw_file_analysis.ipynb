{
 "cells": [
  {
   "cell_type": "markdown",
   "metadata": {},
   "source": [
    "## Analysis for some users Raw data \n",
    "scratchbook"
   ]
  },
  {
   "cell_type": "code",
   "execution_count": null,
   "metadata": {},
   "outputs": [],
   "source": [
    "user_names = ['U12', 'U13', 'U24', 'U78', 'U207', 'U293', 'U453', 'U679', 'U1289', 'U1480']\n",
    "users_data_dir = 'data/char_feats'\n",
    "\n",
    "users_max_len = []\n",
    "for u in user_names:\n",
    "    user_data_dir = '{0}/{1}'.format(users_data_dir, u)\n",
    "    user_max_len = 0\n",
    "    for i in range(58):\n",
    "        user_data_file = '{0}/{1}.txt'.format(user_data_dir, i)\n",
    "        red_events = []\n",
    "        with open(user_data_file, 'r') as infile:\n",
    "            for line in infile.readlines():\n",
    "                line = line.strip().split(',')\n",
    "                if int(line[2]) == 1:\n",
    "                    red_events.append(line)\n",
    "                user_max_len = max(user_max_len, int(line[-2]))\n",
    "        if len(red_events) > 0:\n",
    "            print('use:{} - file:{} - num_red_events:{}'.format(u, user_data_file, len(red_events)))\n",
    "    users_max_len.append((u, user_max_len))\n"
   ]
  },
  {
   "cell_type": "code",
   "execution_count": null,
   "metadata": {},
   "outputs": [],
   "source": [
    "print(users_max_len)"
   ]
  },
  {
   "cell_type": "code",
   "execution_count": null,
   "metadata": {},
   "outputs": [],
   "source": []
  }
 ],
 "metadata": {
  "kernelspec": {
   "display_name": "Python 3",
   "language": "python",
   "name": "python3"
  },
  "language_info": {
   "codemirror_mode": {
    "name": "ipython",
    "version": 3
   },
   "file_extension": ".py",
   "mimetype": "text/x-python",
   "name": "python",
   "nbconvert_exporter": "python",
   "pygments_lexer": "ipython3",
   "version": "3.6.4"
  }
 },
 "nbformat": 4,
 "nbformat_minor": 2
}
