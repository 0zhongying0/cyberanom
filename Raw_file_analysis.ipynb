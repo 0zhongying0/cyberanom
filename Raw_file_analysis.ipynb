{
 "cells": [
  {
   "cell_type": "markdown",
   "metadata": {},
   "source": [
    "## Analysis for some users Raw data \n",
    "scratchbook"
   ]
  },
  {
   "cell_type": "code",
   "execution_count": 5,
   "metadata": {},
   "outputs": [
    {
     "name": "stdout",
     "output_type": "stream",
     "text": [
      "user:U12 - file:data/users_feats/U12/12.txt - num_red_events:4\n",
      "user:U12 - file:data/users_feats/U12/26.txt - num_red_events:2\n",
      "user:U13 - file:data/users_feats/U13/12.txt - num_red_events:2\n",
      "user:U24 - file:data/users_feats/U24/13.txt - num_red_events:4\n",
      "user:U24 - file:data/users_feats/U24/15.txt - num_red_events:1\n",
      "user:U78 - file:data/users_feats/U78/12.txt - num_red_events:2\n",
      "user:U207 - file:data/users_feats/U207/12.txt - num_red_events:2\n",
      "user:U293 - file:data/users_feats/U293/8.txt - num_red_events:30\n",
      "user:U293 - file:data/users_feats/U293/26.txt - num_red_events:1\n",
      "user:U453 - file:data/users_feats/U453/12.txt - num_red_events:2\n",
      "user:U679 - file:data/users_feats/U679/15.txt - num_red_events:2\n",
      "user:U1289 - file:data/users_feats/U1289/12.txt - num_red_events:3\n",
      "user:U1480 - file:data/users_feats/U1480/8.txt - num_red_events:10\n",
      "user:U1480 - file:data/users_feats/U1480/12.txt - num_red_events:2\n"
     ]
    }
   ],
   "source": [
    "user_names_moderate = ['U5254', 'U9407', 'U1592', 'U1723', 'U1106', 'U3406', 'U342', 'U1653', \n",
    "                'U20', 'U250', 'U1450', 'U1164', 'U86']\n",
    "user_names_most_active = ['U12', 'U13', 'U24', 'U78', 'U207', 'U293', 'U453', 'U679', 'U1289', 'U1480']\n",
    "user_names = user_names_most_active\n",
    "users_data_dir = 'data/users_feats'\n",
    "\n",
    "users_max_len = []\n",
    "for u in user_names:\n",
    "    user_data_dir = '{0}/{1}'.format(users_data_dir, u)\n",
    "    user_max_len = 0\n",
    "    for i in range(58):\n",
    "        user_data_file = '{0}/{1}.txt'.format(user_data_dir, i)\n",
    "        red_events = []\n",
    "        try:\n",
    "            with open(user_data_file, 'r') as infile:\n",
    "                for line in infile.readlines():\n",
    "                    line = line.strip().split(',')\n",
    "                    if int(line[2]) == 1:\n",
    "                        red_events.append(line)\n",
    "                    user_max_len = max(user_max_len, int(line[-2]))\n",
    "            if len(red_events) > 0:\n",
    "                print('user:{} - file:{} - num_red_events:{}'.format(u, user_data_file, len(red_events)))\n",
    "        except FileNotFoundError:\n",
    "            print(\"missing file:\", user_data_file)\n",
    "\n",
    "    users_max_len.append((u, user_max_len))\n"
   ]
  },
  {
   "cell_type": "code",
   "execution_count": null,
   "metadata": {},
   "outputs": [],
   "source": [
    "print(users_max_len)"
   ]
  },
  {
   "cell_type": "code",
   "execution_count": null,
   "metadata": {},
   "outputs": [],
   "source": []
  }
 ],
 "metadata": {
  "kernelspec": {
   "display_name": "Python 3",
   "language": "python",
   "name": "python3"
  },
  "language_info": {
   "codemirror_mode": {
    "name": "ipython",
    "version": 3
   },
   "file_extension": ".py",
   "mimetype": "text/x-python",
   "name": "python",
   "nbconvert_exporter": "python",
   "pygments_lexer": "ipython3",
   "version": "3.6.0"
  }
 },
 "nbformat": 4,
 "nbformat_minor": 2
}
