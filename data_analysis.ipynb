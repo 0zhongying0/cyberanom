{
 "cells": [
  {
   "cell_type": "markdown",
   "metadata": {},
   "source": [
    "## Data Analysis"
   ]
  },
  {
   "cell_type": "code",
   "execution_count": null,
   "metadata": {},
   "outputs": [],
   "source": [
    "import pandas as pd\n",
    "import numpy as np\n",
    "import matplotlib.pyplot as plt"
   ]
  },
  {
   "cell_type": "code",
   "execution_count": null,
   "metadata": {},
   "outputs": [],
   "source": [
    "user_names_small = ['U8170', 'U3277', 'U8840', 'U7311', 'U1467', 'U1789', 'U8168', 'U1581', 'U7004', 'U9763']\n",
    "user_names_moderate = ['U5254', 'U9407', 'U1592', 'U1723', 'U1106', 'U3406', 'U342', 'U1653', \n",
    "                'U20', 'U250', 'U1450', 'U1164', 'U86']\n",
    "user_names_most_active = ['U12', 'U13', 'U24', 'U78', 'U207', 'U293', 'U453', 'U679', 'U1289', 'U1480']\n",
    "users_data_dir = 'data/users_feats'"
   ]
  },
  {
   "cell_type": "code",
   "execution_count": null,
   "metadata": {},
   "outputs": [],
   "source": [
    "# user_names = ['U12', 'U13', 'U293'] \n",
    "user_names = user_names_most_active + user_names_moderate #+ user_names_small\n",
    "\n",
    "users_summary = pd.DataFrame(columns=['user_count', 'user_mean', 'user_std', 'user_min', \n",
    "                                   'user_25%', 'user_50%', 'user_75%', 'user_max', \n",
    "                                   'num_events', 'num_red_events', 'event_max_len'], dtype='int')\n",
    "users_info = {}\n",
    "num_days = 57\n",
    "for u in user_names:\n",
    "    print('processing user:', u)\n",
    "    user_info = pd.Series(dtype='int')\n",
    "    user_data_dir = '{0}/{1}'.format(users_data_dir, u)\n",
    "    event_max_len = 0\n",
    "    total_num_events = 0\n",
    "    total_num_red_events = 0\n",
    "    for i in range(num_days):\n",
    "        user_data_file = '{0}/{1}.txt'.format(user_data_dir, i)\n",
    "        num_red_events = 0\n",
    "        num_events = 0\n",
    "        try:\n",
    "            with open(user_data_file, 'r') as infile:\n",
    "                for line in infile.readlines():\n",
    "                    num_events += 1\n",
    "                    line = line.strip().split(',')\n",
    "                    if int(line[2]) == 1:\n",
    "                        num_red_events +=1\n",
    "                    event_max_len = max(event_max_len, int(line[-2]))\n",
    "            user_info.loc[i] = num_events\n",
    "        except FileNotFoundError:\n",
    "            user_info.loc[i] = 0\n",
    "        total_num_events += num_events\n",
    "        total_num_red_events += num_red_events\n",
    "        \n",
    "    users_info[u] = user_info\n",
    "    u_desc = user_info.to_frame().describe().T\n",
    "#     print(u_desc)\n",
    "    users_summary.loc[u] = [u_desc[str(x)][0] for x in u_desc.columns] + \\\n",
    "                        [total_num_events, total_num_red_events, event_max_len]"
   ]
  },
  {
   "cell_type": "code",
   "execution_count": null,
   "metadata": {},
   "outputs": [],
   "source": [
    "users_summary.sort_values(by='num_events', inplace=True)\n",
    "users_summary"
   ]
  },
  {
   "cell_type": "code",
   "execution_count": null,
   "metadata": {},
   "outputs": [],
   "source": [
    "users_info\n",
    "plt.figure()\n",
    "low_percentage = user_names_moderate #['U1653']#['U1653', 'U1723', 'U1592', 'U293']\n",
    "# for x in low_percentage:\n",
    "#     users_info[x].plot()\n",
    "# users_info['U24'].plot()\n",
    "# users_info['U679'].plot()\n",
    "\n",
    "plt.figure()\n",
    "high_volume = ['U12', 'U13', 'U24', 'U78', 'U207', 'U293', 'U453', 'U679', 'U1289', 'U1480']\n",
    "high_volume = ['U1480']\n",
    "for x in high_volume:\n",
    "    print(x)\n",
    "#     plt.figure()\n",
    "#     print(users_info[x])\n",
    "    users_info[x].plot(label=x)\n",
    "plt.grid(True)\n",
    "plt.legend()\n",
    "plt.show()"
   ]
  },
  {
   "cell_type": "code",
   "execution_count": null,
   "metadata": {},
   "outputs": [],
   "source": [
    "print(len(user_names))"
   ]
  },
  {
   "cell_type": "code",
   "execution_count": null,
   "metadata": {},
   "outputs": [],
   "source": [
    "print(len(user_names_small))"
   ]
  },
  {
   "cell_type": "code",
   "execution_count": null,
   "metadata": {},
   "outputs": [],
   "source": [
    "print(users_summary['num_events'])\n",
    "print('sum:', sum(users_summary['num_events']))"
   ]
  },
  {
   "cell_type": "code",
   "execution_count": null,
   "metadata": {},
   "outputs": [],
   "source": []
  }
 ],
 "metadata": {
  "kernelspec": {
   "display_name": "Python 3",
   "language": "python",
   "name": "python3"
  },
  "language_info": {
   "codemirror_mode": {
    "name": "ipython",
    "version": 3
   },
   "file_extension": ".py",
   "mimetype": "text/x-python",
   "name": "python",
   "nbconvert_exporter": "python",
   "pygments_lexer": "ipython3",
   "version": "3.6.2"
  }
 },
 "nbformat": 4,
 "nbformat_minor": 2
}
