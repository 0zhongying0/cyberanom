{
 "cells": [
  {
   "cell_type": "markdown",
   "metadata": {},
   "source": [
    "## Data processing phase 2 for LANL auth.txt file \n",
    "\n",
    "In this notebook we do few things\n",
    "1. Tag redteam events in each of the following users' files which has 10M or more events\n",
    "   - U12, U13, U24, U66, U78, U207, U293, U453, U679, U1289, U1480\n",
    "2. Processes each file to convert text to character features with some meta data.\n",
    "3. Split each file to multiple files based on event days, stored in a user directory. \n",
    "\n",
    "Once all is done, we can use the character feature data for our RNN model processing\n"
   ]
  },
  {
   "cell_type": "code",
   "execution_count": null,
   "metadata": {},
   "outputs": [],
   "source": [
    "# user_names = ['U12', 'U13', 'U24', 'U66', 'U78', 'U207', 'U293', 'U453', 'U679', 'U1289', 'U1480']\n",
    "# for simple testing, we'll initially ignore U66, it has 11M events\n",
    "user_names = ['U12', 'U13', 'U24', 'U78', 'U207', 'U293', 'U453', 'U679', 'U1289', 'U1480']\n",
    "users_indir = 'data/users'\n",
    "users_outdir = 'data/users_feats'\n",
    "redteam_fname = 'data/redteam.txt'"
   ]
  },
  {
   "cell_type": "code",
   "execution_count": null,
   "metadata": {},
   "outputs": [],
   "source": [
    "def transform_line(line):\n",
    "    '''\n",
    "        log line: line to be transformed, \n",
    "        \n",
    "        replace ',' with '|' for easy of processing of each sentence later during training.\n",
    "    '''\n",
    "    return line.replace(',', '|')"
   ]
  },
  {
   "cell_type": "code",
   "execution_count": null,
   "metadata": {},
   "outputs": [],
   "source": [
    "import os\n",
    "import math\n",
    "\n",
    "redevents = set()\n",
    "max_len = 120\n",
    "\n",
    "# make sure we have the output dir\n",
    "if not os.path.exists(users_outdir):\n",
    "    os.makedirs(users_outdir)\n",
    "\n",
    "with open(redteam_fname, 'r') as red:\n",
    "    for line in red:\n",
    "        redevents.add(line.strip())\n",
    "\n",
    "for u in user_names:\n",
    "    user_infile = '{0}/{1}.txt'.format(users_indir, u)\n",
    "    user_outfile = '{0}/{1}_feats.txt'.format(users_outdir, u)\n",
    "    print('processing: ', u, '...', end='')\n",
    "    with open(user_infile, 'r') as infile, open(user_outfile, 'w') as outfile:\n",
    "        outfile.write('sec,day,red,seq_len,sentence\\n') # header\n",
    "        redcount = 0\n",
    "        for line in infile.readlines():\n",
    "            line = line.strip().split(',')\n",
    "            sentence = ','.join(line[1:])\n",
    "            diff = max_len - len(sentence)\n",
    "            sec = line[0]\n",
    "            day = math.floor(int(sec)/86400)\n",
    "            red = 0\n",
    "            redentry = \"{0},{1},{2},{3}\".format(line[0], line[1], line[3], line[4])\n",
    "            red += int(redentry in redevents) # 1 if line is red event\n",
    "            redcount += red\n",
    "            translated = transform_line(sentence)\n",
    "            outfile.write(\"%s,%s,%s,%s,%s\\n\" % (sec, day, \n",
    "                                                    red, len(sentence), translated))\n",
    "        print('done - red team events:', redcount)\n",
    "        outfile.close()\n",
    "        infile.close()\n",
    "\n"
   ]
  },
  {
   "cell_type": "code",
   "execution_count": null,
   "metadata": {},
   "outputs": [],
   "source": [
    "# The final preprocessing step is to split the translated data into multiple files; one for each day.\n",
    "\n",
    "for u in user_names:\n",
    "    user_infile = '{0}/{1}_feats.txt'.format(users_outdir, u)\n",
    "    user_outdir = '{0}/{1}/'.format(users_outdir, u)\n",
    "\n",
    "    if not os.path.exists(user_outdir):\n",
    "        os.makedirs(user_outdir)\n",
    "    \n",
    "    with open(user_infile, 'r') as data:\n",
    "        current_day = 0\n",
    "        outfile = open(user_outdir + str(current_day) + '.txt', 'w')\n",
    "        print('processing:', u, '...', current_day, end='')\n",
    "        data.readline()\n",
    "        for line in data.readlines():\n",
    "            try:\n",
    "                line_items = line.strip().split(',')\n",
    "                day = int(line_items[1])\n",
    "                if day == current_day:\n",
    "                    outfile.write(line)\n",
    "                else:\n",
    "                    outfile.close()\n",
    "                    current_day = day\n",
    "                    outfile = open(user_outdir + str(current_day) + '.txt', 'w')\n",
    "                    print(',', current_day, end='')\n",
    "                    outfile.write(line)\n",
    "            except:\n",
    "                print('error processing file.... line: ', line)\n",
    "        outfile.close()\n",
    "        print(' ...Done!')\n",
    "\n"
   ]
  },
  {
   "cell_type": "code",
   "execution_count": null,
   "metadata": {},
   "outputs": [],
   "source": []
  }
 ],
 "metadata": {
  "kernelspec": {
   "display_name": "Python 3",
   "language": "python",
   "name": "python3"
  },
  "language_info": {
   "codemirror_mode": {
    "name": "ipython",
    "version": 3
   },
   "file_extension": ".py",
   "mimetype": "text/x-python",
   "name": "python",
   "nbconvert_exporter": "python",
   "pygments_lexer": "ipython3",
   "version": "3.6.0"
  }
 },
 "nbformat": 4,
 "nbformat_minor": 2
}
