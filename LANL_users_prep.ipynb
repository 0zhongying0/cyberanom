{
 "cells": [
  {
   "cell_type": "markdown",
   "metadata": {},
   "source": [
    "## Data processing phase 2 for LANL auth.txt file \n",
    "\n",
    "In this notebook we do few things\n",
    "1. Tag redteam events in each of the following users' files which has 10M or more events\n",
    "   - U12, U13, U24, U66, U78, U207, U293, U453, U679, U1289, U1480\n",
    "2. Processes each file to convert text to character features with some meta data.\n",
    "3. Split each file to multiple files based on event days, stored in a user directory. \n",
    "\n",
    "Once all is done, we can use the character feature data for our RNN model processing\n"
   ]
  },
  {
   "cell_type": "code",
   "execution_count": 1,
   "metadata": {},
   "outputs": [],
   "source": [
    "# user_names = ['U12', 'U13', 'U24', 'U66', 'U78', 'U207', 'U293', 'U453', 'U679', 'U1289', 'U1480']\n",
    "# initially we'll initially ignore U66, it has 11M events\n",
    "user_names = ['U12', 'U13', 'U24', 'U78', 'U207', 'U293', 'U453', 'U679', 'U1289', 'U1480']\n",
    "users_in_dir = 'data/users'\n",
    "users_out_dir = 'data/char_feats'\n",
    "redteam_fname = 'data/redteam.txt'"
   ]
  },
  {
   "cell_type": "code",
   "execution_count": 14,
   "metadata": {},
   "outputs": [],
   "source": [
    "def translate_line(line, pad_len):\n",
    "    '''\n",
    "        log line: line to be translated, \n",
    "        pad_len : the number of 0's to append so that the length of the translated line is the same in the dataset \n",
    "                  (character-wise). \n",
    "        \n",
    "        note - 0 and 1 are used to describe START and END of the translated sentence.\n",
    "    '''\n",
    "    #return \"0 \" + \" \".join([str(ord(c) - 30) for c in line]) + \" 1 \" + \" \".join([\"0\"] * pad_len) + \"\\n\"\n",
    "    return line.replace(',', '|')"
   ]
  },
  {
   "cell_type": "code",
   "execution_count": 15,
   "metadata": {},
   "outputs": [
    {
     "name": "stdout",
     "output_type": "stream",
     "text": [
      "processing:  U12 ...done - red team events: 6\n",
      "processing:  U13 ...done - red team events: 2\n",
      "processing:  U24 ...done - red team events: 5\n",
      "processing:  U78 ...done - red team events: 2\n",
      "processing:  U207 ...done - red team events: 2\n",
      "processing:  U293 ...done - red team events: 31\n",
      "processing:  U453 ...done - red team events: 2\n",
      "processing:  U679 ...done - red team events: 2\n",
      "processing:  U1289 ...done - red team events: 3\n",
      "processing:  U1480 ...done - red team events: 12\n"
     ]
    }
   ],
   "source": [
    "import math\n",
    "\n",
    "redevents = set()\n",
    "max_len = 120\n",
    "\n",
    "with open(redteam_fname, 'r') as red:\n",
    "    for line in red:\n",
    "        redevents.add(line.strip())\n",
    "\n",
    "for u in user_names:\n",
    "    user_infile = '{0}/{1}.txt'.format(users_in_dir, u)\n",
    "    user_outfile = '{0}/{1}_feats.txt'.format(users_out_dir, u)\n",
    "    print('processing: ', u, '...', end='')\n",
    "    with open(user_infile, 'r') as infile, open(user_outfile, 'w') as outfile:\n",
    "        outfile.write('sec,day,red,seq_len,sentence\\n') # header\n",
    "        redcount = 0\n",
    "        for line in infile.readlines():\n",
    "            line = line.strip().split(',')\n",
    "            sentence = ','.join(line[1:])\n",
    "            diff = max_len - len(sentence)\n",
    "            sec = line[0]\n",
    "            day = math.floor(int(sec)/86400)\n",
    "            red = 0\n",
    "            redentry = \"{0},{1},{2},{3}\".format(line[0], line[1], line[3], line[4])\n",
    "            red += int(redentry in redevents) # 1 if line is red event\n",
    "            redcount += red\n",
    "            translated = translate_line(sentence, diff)\n",
    "            outfile.write(\"%s,%s,%s,%s,%s\\n\" % (sec, day, \n",
    "                                                    red, len(sentence), translated))\n",
    "        print('done - red team events:', redcount)\n",
    "        outfile.close()\n",
    "        infile.close()\n",
    "\n"
   ]
  },
  {
   "cell_type": "code",
   "execution_count": 16,
   "metadata": {},
   "outputs": [
    {
     "name": "stdout",
     "output_type": "stream",
     "text": [
      "processing: U12 ... 0, 1, 2, 3, 4, 5, 6, 7, 8, 9, 10, 11, 12, 13, 14, 15, 16, 17, 18, 19, 20, 21, 22, 23, 24, 25, 26, 27, 28, 29, 30, 31, 32, 33, 34, 35, 36, 37, 38, 39, 40, 41, 42, 43, 44, 45, 46, 47, 48, 49, 50, 51, 52, 53, 54, 55, 56, 57 ...Done!\n",
      "processing: U13 ... 0, 1, 2, 3, 4, 5, 6, 7, 8, 9, 10, 11, 12, 13, 14, 15, 16, 17, 18, 19, 20, 21, 22, 23, 24, 25, 26, 27, 28, 29, 30, 31, 32, 33, 34, 35, 36, 37, 38, 39, 40, 41, 42, 43, 44, 45, 46, 47, 48, 49, 50, 51, 52, 53, 54, 55, 56, 57 ...Done!\n",
      "processing: U24 ... 0, 1, 2, 3, 4, 5, 6, 7, 8, 9, 10, 11, 12, 13, 14, 15, 16, 17, 18, 19, 20, 21, 22, 23, 24, 25, 26, 27, 28, 29, 30, 31, 32, 33, 34, 35, 36, 37, 38, 39, 40, 41, 42, 43, 44, 45, 46, 47, 48, 49, 50, 51, 52, 53, 54, 55, 56, 57 ...Done!\n",
      "processing: U78 ... 0, 1, 2, 3, 4, 5, 6, 7, 8, 9, 10, 11, 12, 13, 14, 15, 16, 17, 18, 19, 20, 21, 22, 23, 24, 25, 26, 27, 28, 29, 30, 31, 32, 33, 34, 35, 36, 37, 38, 39, 40, 41, 42, 43, 44, 45, 46, 47, 48, 49, 50, 51, 52, 53, 54, 55, 56, 57 ...Done!\n",
      "processing: U207 ... 0, 1, 2, 3, 4, 5, 6, 7, 8, 9, 10, 11, 12, 13, 14, 15, 16, 17, 18, 19, 20, 21, 22, 23, 24, 25, 26, 27, 28, 29, 30, 31, 32, 33, 34, 35, 36, 37, 38, 39, 40, 41, 42, 43, 44, 45, 46, 47, 48, 49, 50, 51, 52, 53, 54, 55, 56, 57 ...Done!\n",
      "processing: U293 ... 0, 1, 2, 3, 4, 5, 6, 7, 8, 9, 10, 11, 12, 13, 14, 15, 16, 17, 18, 19, 20, 21, 22, 23, 24, 25, 26, 27, 28, 29, 30, 31, 32, 33, 34, 35, 36, 37, 38, 39, 40, 41, 42, 43, 44, 45, 46, 47, 48, 49, 50, 51, 52, 53, 54, 55, 56, 57 ...Done!\n",
      "processing: U453 ... 0, 1, 2, 3, 4, 5, 6, 7, 8, 9, 10, 11, 12, 13, 14, 15, 16, 17, 18, 19, 20, 21, 22, 23, 24, 25, 26, 27, 28, 29, 30, 31, 32, 33, 34, 35, 36, 37, 38, 39, 40, 41, 42, 43, 44, 45, 46, 47, 48, 49, 50, 51, 52, 53, 54, 55, 56, 57 ...Done!\n",
      "processing: U679 ... 0, 1, 2, 3, 4, 5, 6, 7, 8, 9, 10, 11, 12, 13, 14, 15, 16, 17, 18, 19, 20, 21, 22, 23, 24, 25, 26, 27, 28, 29, 30, 31, 32, 33, 34, 35, 36, 37, 38, 39, 40, 41, 42, 43, 44, 45, 46, 47, 48, 49, 50, 51, 52, 53, 54, 55, 56, 57 ...Done!\n",
      "processing: U1289 ... 0, 1, 2, 3, 4, 5, 6, 7, 8, 9, 10, 11, 12, 13, 14, 15, 16, 17, 18, 19, 20, 21, 22, 23, 24, 25, 26, 27, 28, 29, 30, 31, 32, 33, 34, 35, 36, 37, 38, 39, 40, 41, 42, 43, 44, 45, 46, 47, 48, 49, 50, 51, 52, 53, 54, 55, 56, 57 ...Done!\n",
      "processing: U1480 ... 0, 1, 2, 3, 4, 5, 6, 7, 8, 9, 10, 11, 12, 13, 14, 15, 16, 17, 18, 19, 20, 21, 22, 23, 24, 25, 26, 27, 28, 29, 30, 31, 32, 33, 34, 35, 36, 37, 38, 39, 40, 41, 42, 43, 44, 45, 46, 47, 48, 49, 50, 51, 52, 53, 54, 55, 56, 57 ...Done!\n"
     ]
    }
   ],
   "source": [
    "# The final preprocessing step is to split the translated data into multiple files; one for each day.\n",
    "\n",
    "import os\n",
    "from tqdm import trange\n",
    "\n",
    "\n",
    "for u in user_names:\n",
    "    user_infile = '{0}/{1}_feats.txt'.format(users_out_dir, u)\n",
    "    user_outdir = '{0}/{1}/'.format(users_out_dir, u)\n",
    "\n",
    "    if not os.path.exists(user_outdir):\n",
    "        os.makedirs(user_outdir)\n",
    "    \n",
    "    with open(user_infile, 'r') as data:\n",
    "        current_day = 0\n",
    "        outfile = open(user_outdir + str(current_day) + '.txt', 'w')\n",
    "        print('processing:', u, '...', current_day, end='')\n",
    "        data.readline()\n",
    "        for line in data.readlines():\n",
    "            try:\n",
    "                line_items = line.strip().split(',')\n",
    "                day = int(line_items[1])\n",
    "                if day == current_day:\n",
    "                    outfile.write(line)\n",
    "                else:\n",
    "                    outfile.close()\n",
    "                    current_day = day\n",
    "                    outfile = open(user_outdir + str(current_day) + '.txt', 'w')\n",
    "                    print(',', current_day, end='')\n",
    "                    outfile.write(line)\n",
    "            except:\n",
    "                print('error processing file.... line: ', line)\n",
    "        outfile.close()\n",
    "        print(' ...Done!')\n",
    "\n"
   ]
  },
  {
   "cell_type": "code",
   "execution_count": null,
   "metadata": {},
   "outputs": [],
   "source": []
  }
 ],
 "metadata": {
  "kernelspec": {
   "display_name": "Python 3",
   "language": "python",
   "name": "python3"
  },
  "language_info": {
   "codemirror_mode": {
    "name": "ipython",
    "version": 3
   },
   "file_extension": ".py",
   "mimetype": "text/x-python",
   "name": "python",
   "nbconvert_exporter": "python",
   "pygments_lexer": "ipython3",
   "version": "3.6.0"
  }
 },
 "nbformat": 4,
 "nbformat_minor": 2
}
